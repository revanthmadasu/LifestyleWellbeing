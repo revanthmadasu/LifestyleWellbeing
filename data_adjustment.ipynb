{
 "cells": [
  {
   "cell_type": "code",
   "execution_count": 7,
   "id": "15a46785",
   "metadata": {},
   "outputs": [],
   "source": [
    "# imports\n",
    "import numpy as np\n",
    "import pandas as pd\n",
    "import matplotlib.pyplot as plt\n",
    "import ssl\n",
    "ssl._create_default_https_context = ssl._create_unverified_context"
   ]
  },
  {
   "cell_type": "code",
   "execution_count": 8,
   "id": "ff51316b",
   "metadata": {},
   "outputs": [],
   "source": [
    "dataset = pd.read_csv('https://raw.githubusercontent.com/revanthmadasu/LifestyleWellbeing/master/Wellbeing_and_lifestyle_data_Kaggle.csv')\n",
    "\n",
    "# dataset = dataset.drop(10005)\n",
    "# dataset['DAILY_STRESS'] = dataset['DAILY_STRESS'].replace(['0','1','2','3','4','5'], [0,1,2,3,4,5])\n",
    "# dataset.head()"
   ]
  },
  {
   "cell_type": "code",
   "execution_count": 9,
   "id": "69d39480",
   "metadata": {},
   "outputs": [],
   "source": [
    "std_dev = dataset['WORK_LIFE_BALANCE_SCORE'].std()\n",
    "def adjustData(row):\n",
    "    # Choose a random standard deviation factor between 0.3 and 0.8\n",
    "    std_dev_factor = np.random.uniform(0, 0.5)\n",
    "\n",
    "    # Generate a random adjustment value from a normal distribution with mean 0\n",
    "    # and standard deviation equal to the chosen factor times the original standard deviation\n",
    "    adjustment = np.random.normal(0, std_dev * std_dev_factor)\n",
    "\n",
    "    # Randomly choose whether to increase or decrease the WORK_LIFE_BALANCE_SCORE column\n",
    "    if np.random.choice([True, False]):\n",
    "        return row['WORK_LIFE_BALANCE_SCORE'] + adjustment\n",
    "    else:\n",
    "        return row['WORK_LIFE_BALANCE_SCORE'] - adjustment\n",
    "dataset['WORK_LIFE_BALANCE_SCORE'] = dataset.apply(lambda row: adjustData(row), axis=1)"
   ]
  },
  {
   "cell_type": "code",
   "execution_count": 11,
   "id": "0e2e8ae9",
   "metadata": {},
   "outputs": [],
   "source": [
    "dataset.to_csv(\"lifestyle_wellbeing.csv\", index=False)"
   ]
  },
  {
   "cell_type": "code",
   "execution_count": null,
   "id": "e4efef4d",
   "metadata": {},
   "outputs": [],
   "source": []
  }
 ],
 "metadata": {
  "kernelspec": {
   "display_name": "Python 3 (ipykernel)",
   "language": "python",
   "name": "python3"
  },
  "language_info": {
   "codemirror_mode": {
    "name": "ipython",
    "version": 3
   },
   "file_extension": ".py",
   "mimetype": "text/x-python",
   "name": "python",
   "nbconvert_exporter": "python",
   "pygments_lexer": "ipython3",
   "version": "3.10.0"
  }
 },
 "nbformat": 4,
 "nbformat_minor": 5
}
