{
  "nbformat": 4,
  "nbformat_minor": 0,
  "metadata": {
    "colab": {
      "provenance": []
    },
    "kernelspec": {
      "name": "python3",
      "display_name": "Python 3"
    },
    "language_info": {
      "name": "python"
    }
  },
  "cells": [
    {
      "cell_type": "code",
      "execution_count": 82,
      "metadata": {
        "id": "Q-epHn--Al3y"
      },
      "outputs": [],
      "source": [
        "# imports\n",
        "import numpy as np\n",
        "import pandas as pd\n",
        "import matplotlib.pyplot as plt\n",
        "from sklearn.preprocessing import OneHotEncoder"
      ]
    },
    {
      "cell_type": "markdown",
      "source": [
        "Importing the data"
      ],
      "metadata": {
        "id": "uwcZAOfuQ5Vu"
      }
    },
    {
      "cell_type": "code",
      "source": [
        "dataset = pd.read_csv('https://raw.githubusercontent.com/revanthmadasu/LifestyleWellbeing/master/Wellbeing_and_lifestyle_data_Kaggle.csv')\n",
        "X = dataset.iloc[:, :-1].values\n",
        "y = dataset.iloc[:, -1].values"
      ],
      "metadata": {
        "id": "CFhQO7NcRBaG"
      },
      "execution_count": 83,
      "outputs": []
    },
    {
      "cell_type": "markdown",
      "source": [
        "Converting categorial data into numerical"
      ],
      "metadata": {
        "id": "o_J97bJ5iu6q"
      }
    },
    {
      "cell_type": "markdown",
      "source": [
        "Using method for 'GENDER' category"
      ],
      "metadata": {
        "id": "1sjfsBk7zgys"
      }
    },
    {
      "cell_type": "code",
      "source": [
        "\"\"\"# Converting type of columns to category\n",
        "dataset['GENDER']=dataset['GENDER'].astype('category')\n",
        "\n",
        "#Assigning numerical values and storing it in another columns\n",
        "dataset['Gen_new']=dataset['GENDER'].cat.codes\n",
        "\n",
        "#Create an instance of One-hot-encoder\n",
        "onehotencoder=OneHotEncoder()\n",
        "\n",
        "onehotencoder_dataset=pd.DataFrame(onehotencoder.fit_transform(dataset[['Gen_new']]).toarray())\n",
        "\n",
        "#Merge with main\n",
        "New_dataset=dataset.join(onehotencoder_dataset)\n",
        "New_dataset.columns\n",
        "print(New_dataset)\"\"\""
      ],
      "metadata": {
        "id": "R9Fh_ErmFdLK",
        "outputId": "2854ed98-2ad8-4df4-b9ea-7c781523fdbc",
        "colab": {
          "base_uri": "https://localhost:8080/",
          "height": 70
        }
      },
      "execution_count": 90,
      "outputs": [
        {
          "output_type": "execute_result",
          "data": {
            "text/plain": [
              "\"# Converting type of columns to category\\ndataset['GENDER']=dataset['GENDER'].astype('category')\\n\\n#Assigning numerical values and storing it in another columns\\ndataset['Gen_new']=dataset['GENDER'].cat.codes\\n\\n#Create an instance of One-hot-encoder\\nonehotencoder=OneHotEncoder()\\n\\nonehotencoder_dataset=pd.DataFrame(onehotencoder.fit_transform(dataset[['Gen_new']]).toarray())\\n\\n#Merge with main\\nNew_dataset=dataset.join(onehotencoder_dataset)\\nNew_dataset.columns\\nprint(New_dataset)\""
            ],
            "application/vnd.google.colaboratory.intrinsic+json": {
              "type": "string"
            }
          },
          "metadata": {},
          "execution_count": 90
        }
      ]
    },
    {
      "cell_type": "code",
      "source": [
        "mdataset = dataset[dataset.columns[0:-1]]\n",
        "one_hot_encoded_data = pd.get_dummies(mdataset, columns = ['GENDER'])\n",
        "print(one_hot_encoded_data)"
      ],
      "metadata": {
        "id": "57p_u_WUJq6m",
        "outputId": "cfa2b2d2-a707-427f-c173-1b1b7cd9c583",
        "colab": {
          "base_uri": "https://localhost:8080/"
        }
      },
      "execution_count": 97,
      "outputs": [
        {
          "output_type": "stream",
          "name": "stdout",
          "text": [
            "          Timestamp  FRUITS_VEGGIES DAILY_STRESS  PLACES_VISITED  CORE_CIRCLE  \\\n",
            "0            7/7/15               3            2               2            5   \n",
            "1            7/7/15               2            3               4            3   \n",
            "2            7/7/15               2            3               3            4   \n",
            "3            7/7/15               3            3              10            3   \n",
            "4            7/7/15               5            1               3            3   \n",
            "...             ...             ...          ...             ...          ...   \n",
            "15967  3/14/21 5:42               3            3               0            4   \n",
            "15968  3/14/21 6:30               3            3               6            8   \n",
            "15969  3/14/21 8:35               4            3               0           10   \n",
            "15970  3/14/21 8:43               1            1              10            8   \n",
            "15971  3/14/21 9:03               5            4               0            2   \n",
            "\n",
            "       SUPPORTING_OTHERS  SOCIAL_NETWORK  ACHIEVEMENT  DONATION  BMI_RANGE  \\\n",
            "0                      0               5            2         0          1   \n",
            "1                      8              10            5         2          2   \n",
            "2                      4              10            3         2          2   \n",
            "3                     10               7            2         5          2   \n",
            "4                     10               4            2         4          2   \n",
            "...                  ...             ...          ...       ...        ...   \n",
            "15967                  0              10            0         4          2   \n",
            "15968                  7               4            6         3          1   \n",
            "15969                 10               8            6         5          1   \n",
            "15970                  2               7            3         2          1   \n",
            "15971                 10              10            5         1          2   \n",
            "\n",
            "       ...  SLEEP_HOURS  LOST_VACATION  DAILY_SHOUTING  SUFFICIENT_INCOME  \\\n",
            "0      ...            7              5               5                  1   \n",
            "1      ...            8              2               2                  2   \n",
            "2      ...            8             10               2                  2   \n",
            "3      ...            5              7               5                  1   \n",
            "4      ...            7              0               0                  2   \n",
            "...    ...          ...            ...             ...                ...   \n",
            "15967  ...            7              0               1                  1   \n",
            "15968  ...            6              0               0                  2   \n",
            "15969  ...            7              0               1                  2   \n",
            "15970  ...            8              7               2                  2   \n",
            "15971  ...            8              5               2                  2   \n",
            "\n",
            "       PERSONAL_AWARDS  TIME_FOR_PASSION  WEEKLY_MEDITATION         AGE  \\\n",
            "0                    4                 0                  5    36 to 50   \n",
            "1                    3                 2                  6    36 to 50   \n",
            "2                    4                 8                  3    36 to 50   \n",
            "3                    5                 2                  0  51 or more   \n",
            "4                    8                 1                  5  51 or more   \n",
            "...                ...               ...                ...         ...   \n",
            "15967                5                 2                  5  51 or more   \n",
            "15968               10                 5                  8    21 to 35   \n",
            "15969               10                 1                 10    21 to 35   \n",
            "15970                1                 6                  8    21 to 35   \n",
            "15971                1                 8                  4    21 to 35   \n",
            "\n",
            "       GENDER_Female  GENDER_Male  \n",
            "0                  1            0  \n",
            "1                  1            0  \n",
            "2                  1            0  \n",
            "3                  1            0  \n",
            "4                  1            0  \n",
            "...              ...          ...  \n",
            "15967              1            0  \n",
            "15968              1            0  \n",
            "15969              0            1  \n",
            "15970              1            0  \n",
            "15971              1            0  \n",
            "\n",
            "[15972 rows x 24 columns]\n"
          ]
        }
      ]
    },
    {
      "cell_type": "code",
      "source": [
        "print(X[0,:])"
      ],
      "metadata": {
        "id": "61n71FBBTWuQ",
        "outputId": "5cd38a18-190e-4b41-83fe-f644cbf28a5b",
        "colab": {
          "base_uri": "https://localhost:8080/"
        }
      },
      "execution_count": 87,
      "outputs": [
        {
          "output_type": "stream",
          "name": "stdout",
          "text": [
            "['7/7/15' 3 '2' 2 5 0 5 2 0 1 6 4 5 0 7 5 5 1 4 0 5 '36 to 50' 'Female']\n"
          ]
        }
      ]
    },
    {
      "cell_type": "code",
      "source": [
        "print(X)"
      ],
      "metadata": {
        "id": "tJ3g7xBkSQBP",
        "outputId": "b683a433-4d08-43f8-b431-fd7921b15197",
        "colab": {
          "base_uri": "https://localhost:8080/"
        }
      },
      "execution_count": 91,
      "outputs": [
        {
          "output_type": "stream",
          "name": "stdout",
          "text": [
            "[['7/7/15' 3 '2' ... 5 '36 to 50' 'Female']\n",
            " ['7/7/15' 2 '3' ... 6 '36 to 50' 'Female']\n",
            " ['7/7/15' 2 '3' ... 3 '36 to 50' 'Female']\n",
            " ...\n",
            " ['3/14/21 8:35' 4 '3' ... 10 '21 to 35' 'Male']\n",
            " ['3/14/21 8:43' 1 '1' ... 8 '21 to 35' 'Female']\n",
            " ['3/14/21 9:03' 5 '4' ... 4 '21 to 35' 'Female']]\n"
          ]
        }
      ]
    },
    {
      "cell_type": "code",
      "source": [
        "print(y)"
      ],
      "metadata": {
        "id": "N73A30pWS7V4",
        "outputId": "640115f3-b556-4d81-d859-b7e212a547d2",
        "colab": {
          "base_uri": "https://localhost:8080/"
        }
      },
      "execution_count": 89,
      "outputs": [
        {
          "output_type": "stream",
          "name": "stdout",
          "text": [
            "[609.5 655.6 631.6 ... 716.6 682.  651.4]\n"
          ]
        }
      ]
    },
    {
      "cell_type": "markdown",
      "source": [
        "Handling missing data"
      ],
      "metadata": {
        "id": "aw0X4vfdScpk"
      }
    },
    {
      "cell_type": "code",
      "source": [
        "# from sklearn.impute import SimpleImputer\n",
        "# imputer = SimpleImputer(missing_values=np.nan, strategy='mean')\n",
        "# imputer.fit(X[:, 1:3])\n",
        "# X[:, 1:3] = imputer.transform(X[:, 1:3])"
      ],
      "metadata": {
        "id": "8wXLZBH0SZVl"
      },
      "execution_count": null,
      "outputs": []
    },
    {
      "cell_type": "code",
      "source": [],
      "metadata": {
        "id": "a3ukHtTnScJv"
      },
      "execution_count": null,
      "outputs": []
    },
    {
      "cell_type": "code",
      "source": [],
      "metadata": {
        "id": "VPZSb_VfSgGZ"
      },
      "execution_count": null,
      "outputs": []
    }
  ]
}